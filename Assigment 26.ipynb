{
 "cells": [
  {
   "cell_type": "code",
   "execution_count": null,
   "id": "a2450d1d-0227-465f-8796-3a67bb61aea0",
   "metadata": {},
   "outputs": [],
   "source": [
    "1. Write a Python program to print \"Hello Python\"?\n"
   ]
  },
  {
   "cell_type": "code",
   "execution_count": 1,
   "id": "1cfb3776-d846-41d4-b7e4-d59088a6b39c",
   "metadata": {},
   "outputs": [
    {
     "name": "stdout",
     "output_type": "stream",
     "text": [
      "Hello Python\n"
     ]
    }
   ],
   "source": [
    "a=\"Hello Python\"\n",
    "print(a)"
   ]
  },
  {
   "cell_type": "code",
   "execution_count": null,
   "id": "2959e78b-0a31-4376-b251-3314c1eb6030",
   "metadata": {},
   "outputs": [],
   "source": [
    "2. Write a Python program to do arithmetical operations addition and division.?\n"
   ]
  },
  {
   "cell_type": "code",
   "execution_count": 3,
   "id": "2667c74f-c1e9-4cf2-a5c4-0d6fdc869d2e",
   "metadata": {},
   "outputs": [
    {
     "name": "stdout",
     "output_type": "stream",
     "text": [
      "6\n",
      "2.0\n"
     ]
    }
   ],
   "source": [
    "a = 4\n",
    "b = 2\n",
    "c = a+b\n",
    "d = a/b\n",
    "print(c)\n",
    "print(d)"
   ]
  },
  {
   "cell_type": "code",
   "execution_count": null,
   "id": "fe455818-2b12-4fd5-bb7e-53267fe02c99",
   "metadata": {},
   "outputs": [],
   "source": [
    "3. Write a Python program to find the area of a triangle?\n"
   ]
  },
  {
   "cell_type": "code",
   "execution_count": 17,
   "id": "d2b9e7d4-9e49-4c5d-a6b0-a3d40d487a92",
   "metadata": {},
   "outputs": [
    {
     "name": "stdout",
     "output_type": "stream",
     "text": [
      "10\n"
     ]
    }
   ],
   "source": [
    "base = 4\n",
    "height = 5\n",
    "area = int(base*height/2)\n",
    "print(area)"
   ]
  },
  {
   "cell_type": "code",
   "execution_count": null,
   "id": "336f7dd6-efbd-4ce6-861d-aab9633475a2",
   "metadata": {},
   "outputs": [],
   "source": [
    "4. Write a Python program to swap two variables?\n"
   ]
  },
  {
   "cell_type": "code",
   "execution_count": 25,
   "id": "0dde0cca-3cad-4be6-a9d1-af4af01f2ef8",
   "metadata": {},
   "outputs": [
    {
     "name": "stdout",
     "output_type": "stream",
     "text": [
      "The value of x after swapping: 5\n",
      "The value of y after swapping: 2\n"
     ]
    }
   ],
   "source": [
    "x = 2\n",
    "y = 5\n",
    "temp = x\n",
    "x = y\n",
    "y = temp\n",
    "print('The value of x after swapping: {}'.format(x))\n",
    "print('The value of y after swapping: {}'.format(y))"
   ]
  },
  {
   "cell_type": "code",
   "execution_count": null,
   "id": "0d9bf8f2-fc38-442e-a0d2-aa7ca21304bd",
   "metadata": {},
   "outputs": [],
   "source": [
    "5. Write a Python program to generate a random number?\n"
   ]
  },
  {
   "cell_type": "code",
   "execution_count": 32,
   "id": "16b1f752-dd7b-40f5-8d3a-2256f1ffadbb",
   "metadata": {},
   "outputs": [
    {
     "name": "stdout",
     "output_type": "stream",
     "text": [
      "Random choice from the list: 40\n"
     ]
    }
   ],
   "source": [
    "import random\n",
    "numbers = [10, 20, 30, 40, 50]\n",
    "random_choice = random.choice(numbers)\n",
    "print(f\"Random choice from the list: {random_choice}\")"
   ]
  },
  {
   "cell_type": "code",
   "execution_count": null,
   "id": "b4a6d904-1ba5-4744-bd63-b539ce53bd00",
   "metadata": {},
   "outputs": [],
   "source": []
  }
 ],
 "metadata": {
  "kernelspec": {
   "display_name": "Python 3 (ipykernel)",
   "language": "python",
   "name": "python3"
  },
  "language_info": {
   "codemirror_mode": {
    "name": "ipython",
    "version": 3
   },
   "file_extension": ".py",
   "mimetype": "text/x-python",
   "name": "python",
   "nbconvert_exporter": "python",
   "pygments_lexer": "ipython3",
   "version": "3.11.7"
  }
 },
 "nbformat": 4,
 "nbformat_minor": 5
}
