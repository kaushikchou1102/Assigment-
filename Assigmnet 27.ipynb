{
 "cells": [
  {
   "cell_type": "code",
   "execution_count": null,
   "id": "d087e374-4ac1-4aed-b5c4-f241686fe19f",
   "metadata": {},
   "outputs": [],
   "source": [
    "1.Write a Python program to convert kilometers to miles?\n"
   ]
  },
  {
   "cell_type": "code",
   "execution_count": 3,
   "id": "01329c2a-2a3b-457e-9b15-59cc6cd4b839",
   "metadata": {},
   "outputs": [
    {
     "name": "stdout",
     "output_type": "stream",
     "text": [
      "4.0389115\n"
     ]
    }
   ],
   "source": [
    "kilo= 6.5\n",
    "conversion= 0.621371\n",
    "mil=kilo*conversion\n",
    "print(mil)"
   ]
  },
  {
   "cell_type": "code",
   "execution_count": null,
   "id": "a5d3de0d-6f7f-4b30-bb4d-9f817e74f63e",
   "metadata": {},
   "outputs": [],
   "source": [
    "2.Write a Python program to convert Celsius to Fahrenheit?\n"
   ]
  },
  {
   "cell_type": "code",
   "execution_count": 8,
   "id": "0b4d3cd4-38ed-4125-b7f1-e31e8eb26eaa",
   "metadata": {},
   "outputs": [
    {
     "name": "stdout",
     "output_type": "stream",
     "text": [
      "95\n"
     ]
    }
   ],
   "source": [
    "Celsius=35\n",
    "Fahrenheit= int(Celsius*9/5)+32\n",
    "print(Fahrenheit)"
   ]
  },
  {
   "cell_type": "code",
   "execution_count": null,
   "id": "c293d968-81a2-43ff-9698-50d257dbb259",
   "metadata": {},
   "outputs": [],
   "source": [
    "3.Write a Python program to display calendar?\n"
   ]
  },
  {
   "cell_type": "code",
   "execution_count": 15,
   "id": "379acaca-6ac9-455f-b8ba-41a514fbd7e1",
   "metadata": {},
   "outputs": [
    {
     "name": "stdout",
     "output_type": "stream",
     "text": [
      "     March 2024\n",
      "Mo Tu We Th Fr Sa Su\n",
      "             1  2  3\n",
      " 4  5  6  7  8  9 10\n",
      "11 12 13 14 15 16 17\n",
      "18 19 20 21 22 23 24\n",
      "25 26 27 28 29 30 31\n",
      "\n"
     ]
    }
   ],
   "source": [
    "import calendar\n",
    "year = 2024\n",
    "month = 3\n",
    "print(calendar.month(year,month))  "
   ]
  },
  {
   "cell_type": "code",
   "execution_count": null,
   "id": "49d0b1ae-2b46-4cf5-84c4-529a699ac2ab",
   "metadata": {},
   "outputs": [],
   "source": [
    "4.Write a Python program to solve quadratic equation?\n"
   ]
  },
  {
   "cell_type": "code",
   "execution_count": 20,
   "id": "a0b749cc-3ee2-4a0a-acec-1f4f2e332c57",
   "metadata": {},
   "outputs": [],
   "source": [
    "import math"
   ]
  },
  {
   "cell_type": "code",
   "execution_count": null,
   "id": "edb76eef-baa5-4c18-bb57-7e9e92d49f31",
   "metadata": {},
   "outputs": [],
   "source": [
    "5.Write a Python program to swap two variables without temp variable?\n"
   ]
  },
  {
   "cell_type": "code",
   "execution_count": 29,
   "id": "56b3f803-82f5-4bc8-86a1-84e65e6dc4ad",
   "metadata": {},
   "outputs": [
    {
     "name": "stdout",
     "output_type": "stream",
     "text": [
      "45 24\n"
     ]
    }
   ],
   "source": [
    "a=24\n",
    "b=45\n",
    "a,b=b,a\n",
    "print(a,b)"
   ]
  },
  {
   "cell_type": "code",
   "execution_count": null,
   "id": "6e01e91c-3ba6-446f-b597-43e8b41144e3",
   "metadata": {},
   "outputs": [],
   "source": []
  }
 ],
 "metadata": {
  "kernelspec": {
   "display_name": "Python 3 (ipykernel)",
   "language": "python",
   "name": "python3"
  },
  "language_info": {
   "codemirror_mode": {
    "name": "ipython",
    "version": 3
   },
   "file_extension": ".py",
   "mimetype": "text/x-python",
   "name": "python",
   "nbconvert_exporter": "python",
   "pygments_lexer": "ipython3",
   "version": "3.11.7"
  }
 },
 "nbformat": 4,
 "nbformat_minor": 5
}
