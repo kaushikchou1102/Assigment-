{
 "cells": [
  {
   "cell_type": "markdown",
   "id": "b5da926c-132f-4e56-bd1a-9c59ce4acb0b",
   "metadata": {},
   "source": [
    "1. What is the relationship between def statements and lambda expressions ?\n"
   ]
  },
  {
   "cell_type": "markdown",
   "id": "d2c2e5f3-58eb-4663-ab68-a5de3051c6d0",
   "metadata": {},
   "source": [
    "Ans. \n",
    "\n",
    "Keyword def that marks the start of the function header. A function name to uniquely identify the function. Function naming follows the same rules of writing identifiers in Python\n",
    "\n",
    "Lambdas are one-line methods without a name or we can say anonymous Func They work practically the same as any other method in Python Lambdas differ from normal Python methods because they can have only one expression, can't contain any statements and their return type is a function object"
   ]
  },
  {
   "cell_type": "markdown",
   "id": "96f3b09a-8b29-442a-a7b8-356e2ad4b99f",
   "metadata": {},
   "source": [
    "2. What is the benefit of lambda?\n"
   ]
  },
  {
   "cell_type": "markdown",
   "id": "8264cd4a-c39e-4cdc-abcf-1bb8cf2084a5",
   "metadata": {},
   "source": [
    "Ans \n",
    "\n",
    "Fewer Lines of Code Lambda functions are inline functions and thus execute comparatively faster Many times lambda functions make code much more readable by avoiding the logical jumps caused by function calls"
   ]
  },
  {
   "cell_type": "markdown",
   "id": "7d85f1a5-b7ca-4c10-adb3-796a3166b35c",
   "metadata": {},
   "source": [
    "3. Compare and contrast map, filter, and reduce.\n"
   ]
  },
  {
   "cell_type": "markdown",
   "id": "28ac5da2-8e86-4b4b-84c8-08ce82a6f053",
   "metadata": {},
   "source": [
    "Ans. \n",
    "\n",
    "map applies as a transformation to an element. The map() function iterates through all items in the given iterable and executes the function we passed as an argument on each of them. Syntax : map(function, iterable(s))\n",
    "\n",
    "filter accumulates only elements matching a condition. filter() forms a new list that contains only elements that satisfy a certain condition, i.e. the function we passed returns True Syntax : filter(function, iterable(s))\n",
    "\n",
    "reduce accumulates all elements to a single value, by using immutable values reduce() works by calling the function we passed for the first two items in the sequence. The result returned by the function is used in another call to function alongside with the next (third in this case), element Syntax : reduce(function, sequence[, initial])"
   ]
  },
  {
   "cell_type": "code",
   "execution_count": 1,
   "id": "c0bd8c71-79cf-4971-a100-cd9ab430e096",
   "metadata": {},
   "outputs": [
    {
     "name": "stdout",
     "output_type": "stream",
     "text": [
      "True\n",
      "False\n",
      "False\n",
      "False\n",
      "False\n"
     ]
    }
   ],
   "source": [
    "Animal = [\"Anteater\", \"Dog\", \"Elephant\", \"Giraffe\", \"Cat\"]\n",
    "map_object = map(lambda s: s[0] == \"A\", Animal)\n",
    "\n",
    "\n",
    "for i in map_object:\n",
    "    print(i)"
   ]
  },
  {
   "cell_type": "code",
   "execution_count": 2,
   "id": "83c3f2fd-bbf2-43b7-9ade-e5464a0b514c",
   "metadata": {},
   "outputs": [
    {
     "name": "stdout",
     "output_type": "stream",
     "text": [
      "Anteater\n"
     ]
    }
   ],
   "source": [
    "Animal = [\"Anteater\", \"Dog\", \"Elephant\", \"Giraffe\", \"Cat\"]\n",
    "filter_object = filter(lambda s: s[0] == \"A\", Animal)\n",
    "\n",
    "for i in filter_object:\n",
    "    print(i)"
   ]
  },
  {
   "cell_type": "code",
   "execution_count": 3,
   "id": "201077d6-2bd5-4663-b263-19614099d78f",
   "metadata": {},
   "outputs": [
    {
     "name": "stdout",
     "output_type": "stream",
     "text": [
      "18\n",
      "With an initial value: 28\n"
     ]
    }
   ],
   "source": [
    "from functools import reduce\n",
    "\n",
    "list = [4, 3, 8, 3]\n",
    "print(reduce(lambda x, y: x + y, list))\n",
    "print(\"With an initial value: \" + str(reduce(lambda x, y: x + y, list, 10)))"
   ]
  },
  {
   "cell_type": "markdown",
   "id": "c1cb53f3-6c01-4bbc-8ee2-9711986afd5a",
   "metadata": {},
   "source": [
    "4. What are function annotations, and how are they used?\n"
   ]
  },
  {
   "cell_type": "markdown",
   "id": "58b0049c-5249-4a95-aaab-61fecb4a327d",
   "metadata": {},
   "source": [
    "Ans \n",
    "\n",
    "Function annotation is the standard way to access the metadata with the arguments and the return value of the function. These are nothing but some random and optional Python expressions that get allied to different parts of the function. They get evaluated only during the compile-time and have no significance during the run-time of the code. They do not have any significance or meaning associated with them until accessed by some third-party libraries. They are used to type check the functions by declaring the type of the parameters and the return value for the functions. The string-based annotations help us to improve the help messages.\n",
    "\n",
    "Syntax :\r\n",
    "\r\n",
    "def func(a: 'int') -> 'int':\r\n",
    "pass"
   ]
  },
  {
   "cell_type": "code",
   "execution_count": 5,
   "id": "fa706726-5ef1-4d2b-b65a-2558bc4ba952",
   "metadata": {},
   "outputs": [
    {
     "name": "stdout",
     "output_type": "stream",
     "text": [
      "{'n': 'float', 'b': 'int', 'return': 'result'}\n"
     ]
    }
   ],
   "source": [
    "\n",
    "def fib(n:'float', b:'int')-> 'result': \n",
    "    pass\n",
    "print(fib.__annotations__)"
   ]
  },
  {
   "cell_type": "markdown",
   "id": "01926f92-7a27-43d4-9759-5be334aa4079",
   "metadata": {},
   "source": [
    "5. What are recursive functions, and how are they used?\n"
   ]
  },
  {
   "cell_type": "markdown",
   "id": "a6d5d4b4-55ce-4708-8062-eed4a3bb0466",
   "metadata": {},
   "source": [
    "Ans. A recursive function is a function that calls itself during its execution. This means that the function will continue to call itself and repeat its behavior until some condition is met to return a result"
   ]
  },
  {
   "cell_type": "code",
   "execution_count": 4,
   "id": "eb038bb2-f3a5-4b0e-a7bf-1e4a76b7a622",
   "metadata": {},
   "outputs": [
    {
     "data": {
      "text/plain": [
       "6"
      ]
     },
     "execution_count": 4,
     "metadata": {},
     "output_type": "execute_result"
    }
   ],
   "source": [
    "def fact(x):\n",
    "    if x == 1 :\n",
    "        return 1\n",
    "    else :\n",
    "        return x * fact(x-1) # recurtion\n",
    "    \n",
    "fact(3)"
   ]
  },
  {
   "cell_type": "markdown",
   "id": "21613615-5547-40fa-9979-b2dd9b18dc42",
   "metadata": {},
   "source": [
    "6. What are some general design guidelines for coding functions?\n"
   ]
  },
  {
   "cell_type": "markdown",
   "id": "9967c11e-b740-4e23-8b58-d3f360d91bbc",
   "metadata": {},
   "source": [
    "Ans.\n",
    "\n",
    "Use 4-space indentation and no tabs.\n",
    "\n",
    "Use docstrings\n",
    "\n",
    "Wrap linethat they don’t exceed 79 characters\n",
    "\n",
    "Use of regular and updated comments are valuable to both the coders and users\n",
    "\n",
    "Use of trailing commas : in case of tuple -> ('good',)\n",
    "\n",
    "Use Python’s default UTF-8 or ASCII encodings and not any fancy encodings\n",
    "\n",
    "Naming Conventions 8.Characters that should not be used for identifiers : ‘l’ (lowercase letter el), ‘O’ (uppercase letter oh), ‘I’ (uppercase letter eye) as single character variable names as these are similar to the numerals one and zero.\n",
    "\n",
    "Don’t use non-ASCII characters in identifiers\n",
    "\n",
    "Name your classes and functions consistently\n",
    "\n",
    "While naming of function of methods always use self for the first argument"
   ]
  },
  {
   "cell_type": "markdown",
   "id": "fcb34d3b-38a0-472b-ada1-32f3e00968fc",
   "metadata": {},
   "source": [
    "7. Name three or more ways that functions can communicate results to a caller.\n"
   ]
  },
  {
   "cell_type": "markdown",
   "id": "ff16adad-f6ae-4905-82da-1e57db6c2792",
   "metadata": {},
   "source": [
    "Ans \n",
    "\n",
    "1. Function can return single value\n",
    "\n",
    "2. Can return multiple values, tuple\n",
    "\n",
    "3. can return list,dictionary\n",
    "\n",
    "4. can return function object\n",
    "\n",
    "5. can return class object\n"
   ]
  },
  {
   "cell_type": "code",
   "execution_count": null,
   "id": "2b3d63f4-799d-4380-bd7b-33b923597608",
   "metadata": {},
   "outputs": [],
   "source": []
  }
 ],
 "metadata": {
  "kernelspec": {
   "display_name": "Python 3 (ipykernel)",
   "language": "python",
   "name": "python3"
  },
  "language_info": {
   "codemirror_mode": {
    "name": "ipython",
    "version": 3
   },
   "file_extension": ".py",
   "mimetype": "text/x-python",
   "name": "python",
   "nbconvert_exporter": "python",
   "pygments_lexer": "ipython3",
   "version": "3.11.7"
  }
 },
 "nbformat": 4,
 "nbformat_minor": 5
}
