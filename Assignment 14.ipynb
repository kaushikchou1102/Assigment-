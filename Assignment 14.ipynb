{
 "cells": [
  {
   "cell_type": "markdown",
   "id": "b3298281-41b5-4bab-970b-07942adb05f4",
   "metadata": {},
   "source": [
    "1. What does RGBA stand for?\n",
    "\n"
   ]
  },
  {
   "cell_type": "markdown",
   "id": "accf57fd-5e63-4bfb-9fff-0e256c4d8182",
   "metadata": {},
   "source": [
    "Ans \n",
    "\n",
    "Ans.\n",
    "\n",
    "RGBA stands for red, green, blue, and alpha (transparency) in the color.\n",
    "\n",
    "An RGBA value is a tuple of 4 integers, each ranging from 0 to 255. The four integers correspond to the amount of red, green, blue, and alpha (transparency) in the color"
   ]
  },
  {
   "cell_type": "markdown",
   "id": "883a395a-a01e-4582-aee1-295de1679a78",
   "metadata": {},
   "source": [
    "2. From the Pillow module, how do you get the RGBA value of any images?\n"
   ]
  },
  {
   "cell_type": "code",
   "execution_count": 4,
   "id": "e49903db-778e-452c-b0cb-5e79bcd39e34",
   "metadata": {},
   "outputs": [
    {
     "data": {
      "text/plain": [
       "(0, 0, 255, 255)"
      ]
     },
     "execution_count": 4,
     "metadata": {},
     "output_type": "execute_result"
    }
   ],
   "source": [
    "from PIL import ImageColor\n",
    "ImageColor.getcolor('green', 'RGBA')\n",
    "ImageColor.getcolor('red', 'RGBA')\n",
    "ImageColor.getcolor('blue', 'RGBA')\n"
   ]
  },
  {
   "cell_type": "markdown",
   "id": "1bfe1498-b92c-4aeb-b334-a4892de8c413",
   "metadata": {},
   "source": [
    "3. What is a box tuple, and how does it work?\n"
   ]
  },
  {
   "cell_type": "markdown",
   "id": "74ab8fea-eb5b-4320-b6a2-cfd4ca880aba",
   "metadata": {},
   "source": [
    "Ans. \n",
    "\n",
    "A box tuple is a tuple value of four integers: the left edge x-coordinate, the top edge y-coordinate, the width, and the height, respectively"
   ]
  },
  {
   "cell_type": "markdown",
   "id": "13f6e217-0d7d-4978-978d-0bda4f768cde",
   "metadata": {},
   "source": [
    "4. Use your image and load in notebook then, How can you find out the width and height of an Image object?\n"
   ]
  },
  {
   "cell_type": "code",
   "execution_count": null,
   "id": "f10692c3-eda0-4df2-a904-902594a2c51e",
   "metadata": {},
   "outputs": [],
   "source": [
    "from PIL import Image\n",
    "myImg = Image.open('shiva.jpg')\n",
    "w,h = myImg.size\n",
    "w,h"
   ]
  },
  {
   "cell_type": "markdown",
   "id": "f2005f5d-8f05-4fe6-81b7-c90d616fef81",
   "metadata": {},
   "source": [
    "5. What method would you call to get Image object for a 100×100 image, excluding the lower-left quarter of it?\n"
   ]
  },
  {
   "cell_type": "markdown",
   "id": "cf5314a4-4ed8-470c-9a7b-28d99665eacb",
   "metadata": {},
   "source": [
    "Ans. \n",
    "\n",
    "ImageObject.crop((0, 50, 50, 50))"
   ]
  },
  {
   "cell_type": "markdown",
   "id": "011e3f0c-616f-4702-9ebb-987dfc240149",
   "metadata": {},
   "source": [
    "6. After making changes to an Image object, how could you save it as an image file?\n"
   ]
  },
  {
   "cell_type": "markdown",
   "id": "430649fa-f499-4f2e-b459-2ae28ae3174a",
   "metadata": {},
   "source": [
    "Ans. \n",
    "\n",
    "By Calling the imageObj.save('new_filename.png') method of the Image object."
   ]
  },
  {
   "cell_type": "markdown",
   "id": "a750812c-b59f-4943-b392-6b560c58eefe",
   "metadata": {},
   "source": [
    "7. What module contains Pillow’s shape-drawing code?\n"
   ]
  },
  {
   "cell_type": "markdown",
   "id": "bee0533a-a764-42d7-813a-de06aaa09bf2",
   "metadata": {},
   "source": [
    "Ans. \n",
    "\n",
    "The ImageDraw module contains code to draw on images"
   ]
  },
  {
   "cell_type": "markdown",
   "id": "cfa9858c-b132-42e1-b80b-4d40fc9545c2",
   "metadata": {},
   "source": [
    "8. Image objects do not have drawing methods. What kind of object does? How do you get this kind of object?\n"
   ]
  },
  {
   "cell_type": "markdown",
   "id": "91940ddf-ca80-447a-9cd7-a7ca633c0b7f",
   "metadata": {},
   "source": [
    "Ans. \n",
    "\n",
    "ImageDraw objects have shape-drawing methods such as point(), line(), or rectangle(). They are returned by passing the Image object to the ImageDraw.Draw() function"
   ]
  },
  {
   "cell_type": "code",
   "execution_count": null,
   "id": "8467253f-ca2b-437e-9c0e-3152ade89736",
   "metadata": {},
   "outputs": [],
   "source": []
  }
 ],
 "metadata": {
  "kernelspec": {
   "display_name": "Python 3 (ipykernel)",
   "language": "python",
   "name": "python3"
  },
  "language_info": {
   "codemirror_mode": {
    "name": "ipython",
    "version": 3
   },
   "file_extension": ".py",
   "mimetype": "text/x-python",
   "name": "python",
   "nbconvert_exporter": "python",
   "pygments_lexer": "ipython3",
   "version": "3.11.7"
  }
 },
 "nbformat": 4,
 "nbformat_minor": 5
}
