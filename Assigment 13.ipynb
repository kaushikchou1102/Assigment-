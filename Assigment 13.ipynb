{
 "cells": [
  {
   "cell_type": "markdown",
   "id": "4c3b2ada-dcb6-4648-ac9c-e19c1ff5e8e2",
   "metadata": {},
   "source": [
    "1. What advantages do Excel spreadsheets have over CSV spreadsheets?\n"
   ]
  },
  {
   "cell_type": "markdown",
   "id": "715bc29f-8607-473e-bf51-7247982266d0",
   "metadata": {},
   "source": [
    "Ans \n",
    "\n",
    "1.It is a binary file that holds information about all the worksheets in a workbook\n",
    "\n",
    "2.An Excel not only stores data but can also do operations on the data\n",
    "\n",
    "3.Files saved in excel cannot be opened or edited by text editors\n",
    "\n",
    "4.large files user is much easier in Excel for the end user. Also, you can have additional functions like selecting individual cells for import, convert dates and time automatically, reading formulas and their results, filters, sorting, etc\n",
    "\n",
    "5.Apart from text, data can also be stored in form of charts and graphs\n",
    "\n",
    "6.Excel can connect to external data sources to fetch data. You can use custom add-in in Excel to increase its functionality.\n",
    "\n",
    "7.Excel allows for Review of Data with detailed tracking and commenting feature\n",
    "\n",
    "8.In Excel, spreadsheets can have values of data types other than strings; cells can have different fonts, sizes, or color settings; cells can have varying widths and heights; adjacent cells can be merged"
   ]
  },
  {
   "cell_type": "markdown",
   "id": "472012fa-672f-414b-8107-f3b1aa47b27d",
   "metadata": {},
   "source": [
    "2.What do you pass to csv.reader() and csv.writer() to create reader and writer objects?\n"
   ]
  },
  {
   "cell_type": "code",
   "execution_count": null,
   "id": "bfdfa1e4-ed89-4dc5-aaa6-bda8d2bf95fe",
   "metadata": {},
   "outputs": [],
   "source": [
    "import csv\n",
    "file_csv = open('abc.csv')\n",
    "filereader = csv.reader(file_csv)\n",
    "fileData = list(filereader)\n",
    "fileData"
   ]
  },
  {
   "cell_type": "markdown",
   "id": "416b2719-5143-4733-a04c-ab8b27805ac0",
   "metadata": {},
   "source": [
    "3. What modes do File objects for reader and writer objects need to be opened in?\n"
   ]
  },
  {
   "cell_type": "markdown",
   "id": "929116e5-f0e1-4b24-b585-a024f05a0535",
   "metadata": {},
   "source": [
    "Ans. \n",
    "\n",
    "File objects need to be opened in read-binary ('rb') for Reader objects and write-binary ('wb') for Writer objects\n"
   ]
  },
  {
   "cell_type": "markdown",
   "id": "091faa5d-fcc9-4bb1-9a74-8a1c91b64fc2",
   "metadata": {},
   "source": [
    "4. What method takes a list argument and writes it to a CSV file?\n"
   ]
  },
  {
   "cell_type": "code",
   "execution_count": null,
   "id": "fbc810f0-1cc0-445b-994b-e54b1a6cf3e9",
   "metadata": {},
   "outputs": [],
   "source": [
    "File_abc = open('abc.csv','w')\n",
    "File_Writer = csv.writer(File_abc)\n",
    "csv.writer(File_abc).writerow(['cat','fish','dog'])\n",
    "     "
   ]
  },
  {
   "cell_type": "markdown",
   "id": "bb55b38d-1dfc-471f-9d6c-65a91a7b2c2c",
   "metadata": {},
   "source": [
    "5. What do the keyword arguments delimiter and line terminator do?\n"
   ]
  },
  {
   "cell_type": "markdown",
   "id": "7293c717-6cbb-491b-8367-886fee13ba04",
   "metadata": {},
   "source": [
    "Ans.\n",
    "\n",
    "The delimiter argument changes the string used to separate cells in a row.\n",
    "\n",
    "The line terminator argument changes the string used to separate rows."
   ]
  },
  {
   "cell_type": "markdown",
   "id": "c44ebb76-fdbc-409a-a08b-1825007ec40d",
   "metadata": {},
   "source": [
    "6. What function takes a string of JSON data and returns a Python data structure?\n"
   ]
  },
  {
   "cell_type": "markdown",
   "id": "5cb0db62-cf7a-4962-89cf-4cb11b8f75ad",
   "metadata": {},
   "source": [
    "Ans. \n",
    "\n",
    "json.loads()"
   ]
  },
  {
   "cell_type": "markdown",
   "id": "6dcbffc1-8d29-4a91-a50a-ed967032ff1b",
   "metadata": {},
   "source": [
    "7. What function takes a Python data structure and returns a string of JSON data?"
   ]
  },
  {
   "cell_type": "markdown",
   "id": "3871a621-c997-4b03-a490-216ebbb32ccb",
   "metadata": {},
   "source": [
    "Ans \n",
    "\n",
    "json.dumps()"
   ]
  },
  {
   "cell_type": "code",
   "execution_count": null,
   "id": "81da7dae-47cc-415b-b991-7f520839fa71",
   "metadata": {},
   "outputs": [],
   "source": []
  }
 ],
 "metadata": {
  "kernelspec": {
   "display_name": "Python 3 (ipykernel)",
   "language": "python",
   "name": "python3"
  },
  "language_info": {
   "codemirror_mode": {
    "name": "ipython",
    "version": 3
   },
   "file_extension": ".py",
   "mimetype": "text/x-python",
   "name": "python",
   "nbconvert_exporter": "python",
   "pygments_lexer": "ipython3",
   "version": "3.11.7"
  }
 },
 "nbformat": 4,
 "nbformat_minor": 5
}
