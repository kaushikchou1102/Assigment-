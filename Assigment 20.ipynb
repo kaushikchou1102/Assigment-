{
 "cells": [
  {
   "cell_type": "markdown",
   "id": "f1230617-ab02-4110-a1a9-a8af2892e3bc",
   "metadata": {},
   "source": [
    "1. Set the variable test1 to the string 'This is a test of the emergency text system,' and save test1 to a file named test.txt.\n",
    "\n"
   ]
  },
  {
   "cell_type": "code",
   "execution_count": 4,
   "id": "ed0f6d62-2d54-499a-8379-21f037abf87a",
   "metadata": {},
   "outputs": [
    {
     "data": {
      "text/plain": [
       "44"
      ]
     },
     "execution_count": 4,
     "metadata": {},
     "output_type": "execute_result"
    }
   ],
   "source": [
    "test1 = 'This is a test of the emergency text system,'\n",
    "filee = open('test.txt','w')\n",
    "filee.write(test1)"
   ]
  },
  {
   "cell_type": "markdown",
   "id": "5e79a44b-5f54-4900-ad48-bf099895305d",
   "metadata": {},
   "source": [
    "2. Read the contents of the file test.txt into the variable test2. Is there a difference between test 1 and test 2?\n"
   ]
  },
  {
   "cell_type": "code",
   "execution_count": 5,
   "id": "9396159f-29c8-44bd-b639-1f7fb06f0642",
   "metadata": {},
   "outputs": [
    {
     "data": {
      "text/plain": [
       "'This is a test of the emergency text system,'"
      ]
     },
     "execution_count": 5,
     "metadata": {},
     "output_type": "execute_result"
    }
   ],
   "source": [
    "file2 = open('test.txt','r')\n",
    "test2 = file2.readline()\n",
    "test2"
   ]
  },
  {
   "cell_type": "code",
   "execution_count": 6,
   "id": "498d2fa6-cd5a-42a0-9616-09d5238eb253",
   "metadata": {},
   "outputs": [
    {
     "name": "stdout",
     "output_type": "stream",
     "text": [
      "Both are same\n"
     ]
    }
   ],
   "source": [
    "if test1==test2:\n",
    "    print('Both are same')"
   ]
  },
  {
   "cell_type": "markdown",
   "id": "25d07cec-4753-4d21-82e1-c013ac85f52d",
   "metadata": {},
   "source": [
    "3. Create a CSV file called books.csv by using these lines:\n",
    "   \n",
    "title,author,year\n",
    "\n",
    "The Weirdstone of Brisingamen,Alan Garner,1960\n",
    "\n",
    "Perdido Street Station,China Miéville,2000\n",
    "\n",
    "Thud!,Terry Pratchett,2005\n",
    "\n",
    "The Spellman Files,Lisa Lutz,2007\n",
    "\n",
    "Small Gods,Terry Pratchett,1992"
   ]
  },
  {
   "cell_type": "code",
   "execution_count": 14,
   "id": "bec72e6c-3eed-44df-aa64-1cfa32c2902b",
   "metadata": {},
   "outputs": [],
   "source": [
    "import csv\n",
    "rows=[ ['title','author','year'],\n",
    "    ['The Weirdstone of Brisingamen','Alan Garner',1960],\n",
    "    ['Perdido Street Station','China Miéville',2000],\n",
    "    ['Thud!','Terry Pratchett',2005],\n",
    "    ['The Spellman Files','Lisa Lutz',2007],\n",
    "    ['Small Gods','Terry Pratchett',1992]]\n",
    "with open('books.csv','w',newline='') as file:\n",
    "    writer = csv.writer(file)\n",
    "    writer.writerows(rows)\n"
   ]
  },
  {
   "cell_type": "markdown",
   "id": "15be0e64-9aeb-4f1d-aa13-80e3b805f4c5",
   "metadata": {},
   "source": [
    "4. Use the sqlite3 module to create a SQLite database called books.db, and a table called books with these fields: title (text), author (text), and year (integer).\n"
   ]
  },
  {
   "cell_type": "code",
   "execution_count": 15,
   "id": "7345597a-ae38-42f4-8d07-ce38d8065d84",
   "metadata": {},
   "outputs": [],
   "source": [
    "import sqlite3\n",
    "conn = sqlite3.connect('books.db')\n",
    "c = conn.cursor()\n",
    "\n",
    "c.execute('create table books(title varchar(20),author varchar(20), year int)')\n",
    "conn.commit()"
   ]
  },
  {
   "cell_type": "markdown",
   "id": "ec8c8a8e-41d7-41ad-93aa-22b0434dc979",
   "metadata": {},
   "source": [
    "5. Read books.csv and insert its data into the book table.\n"
   ]
  },
  {
   "cell_type": "code",
   "execution_count": 16,
   "id": "e58b604c-d294-4db1-8632-34a676b87543",
   "metadata": {},
   "outputs": [
    {
     "data": {
      "text/plain": [
       "5"
      ]
     },
     "execution_count": 16,
     "metadata": {},
     "output_type": "execute_result"
    }
   ],
   "source": [
    "import pandas as pd\n",
    "\n",
    "read_books = pd.read_csv('books.csv',encoding='unicode_escape')\n",
    "read_books.to_sql('books', conn, if_exists='append', index = False)"
   ]
  },
  {
   "cell_type": "markdown",
   "id": "1c73a936-0da3-4807-b770-35ad160a1f70",
   "metadata": {},
   "source": [
    "6. Select and print the title column from the book table in alphabetical order.\n"
   ]
  },
  {
   "cell_type": "code",
   "execution_count": 17,
   "id": "058df521-2af1-4985-af5b-416f78f2c1b6",
   "metadata": {},
   "outputs": [
    {
     "name": "stdout",
     "output_type": "stream",
     "text": [
      "[('Perdido Street Station',), ('Small Gods',), ('The Spellman Files',), ('The Weirdstone of Brisingamen',), ('Thud!',)]\n"
     ]
    }
   ],
   "source": [
    "c.execute('select title from books order by title asc')\n",
    "print(c.fetchall())"
   ]
  },
  {
   "cell_type": "markdown",
   "id": "1a1f6de0-f2d6-41f8-879e-f43140402a72",
   "metadata": {},
   "source": [
    "7. From the book table, select and print all columns in the order of publication.\n"
   ]
  },
  {
   "cell_type": "code",
   "execution_count": 23,
   "id": "dd37fe20-f5de-4410-9cfd-95db02838428",
   "metadata": {},
   "outputs": [
    {
     "data": {
      "text/html": [
       "<div>\n",
       "<style scoped>\n",
       "    .dataframe tbody tr th:only-of-type {\n",
       "        vertical-align: middle;\n",
       "    }\n",
       "\n",
       "    .dataframe tbody tr th {\n",
       "        vertical-align: top;\n",
       "    }\n",
       "\n",
       "    .dataframe thead th {\n",
       "        text-align: right;\n",
       "    }\n",
       "</style>\n",
       "<table border=\"1\" class=\"dataframe\">\n",
       "  <thead>\n",
       "    <tr style=\"text-align: right;\">\n",
       "      <th></th>\n",
       "      <th>title</th>\n",
       "      <th>author</th>\n",
       "      <th>year</th>\n",
       "    </tr>\n",
       "  </thead>\n",
       "  <tbody>\n",
       "    <tr>\n",
       "      <th>0</th>\n",
       "      <td>The Weirdstone of Brisingamen</td>\n",
       "      <td>Alan Garner</td>\n",
       "      <td>1960</td>\n",
       "    </tr>\n",
       "    <tr>\n",
       "      <th>1</th>\n",
       "      <td>Small Gods</td>\n",
       "      <td>Terry Pratchett</td>\n",
       "      <td>1992</td>\n",
       "    </tr>\n",
       "    <tr>\n",
       "      <th>2</th>\n",
       "      <td>Perdido Street Station</td>\n",
       "      <td>China Miéville</td>\n",
       "      <td>2000</td>\n",
       "    </tr>\n",
       "    <tr>\n",
       "      <th>3</th>\n",
       "      <td>Thud!</td>\n",
       "      <td>Terry Pratchett</td>\n",
       "      <td>2005</td>\n",
       "    </tr>\n",
       "    <tr>\n",
       "      <th>4</th>\n",
       "      <td>The Spellman Files</td>\n",
       "      <td>Lisa Lutz</td>\n",
       "      <td>2007</td>\n",
       "    </tr>\n",
       "  </tbody>\n",
       "</table>\n",
       "</div>"
      ],
      "text/plain": [
       "                           title           author  year\n",
       "0  The Weirdstone of Brisingamen      Alan Garner  1960\n",
       "1                     Small Gods  Terry Pratchett  1992\n",
       "2         Perdido Street Station   China Miéville  2000\n",
       "3                          Thud!  Terry Pratchett  2005\n",
       "4             The Spellman Files        Lisa Lutz  2007"
      ]
     },
     "execution_count": 23,
     "metadata": {},
     "output_type": "execute_result"
    }
   ],
   "source": [
    "c.execute('select title, author,year from books order by year')\n",
    "\n",
    "\n",
    "df = pd.DataFrame(c.fetchall(), columns=['title','author','year'])\n",
    "df"
   ]
  },
  {
   "cell_type": "markdown",
   "id": "30631407-743e-4ac5-869c-09989e46a5de",
   "metadata": {},
   "source": [
    "8. Use the sqlalchemy module to connect to the sqlite3 database books.db that you just made in exercise 6.\n"
   ]
  },
  {
   "cell_type": "code",
   "execution_count": null,
   "id": "d2baa4ec-fd49-410d-a3aa-90a4bf15cefe",
   "metadata": {},
   "outputs": [],
   "source": [
    "import sqlalchemy\n",
    "engine = sqlalchemy.create_engine(\"sqlite:///books.db\")\n",
    "rows = engine.execute('select * from books')\n",
    "for i in rows:\n",
    "    print(i)"
   ]
  },
  {
   "cell_type": "markdown",
   "id": "f9a9a00b-2385-419e-85b1-bc3fde0d9c98",
   "metadata": {},
   "source": [
    "9. Install the Redis server and the Python redis library (pip install redis) on your computer. Create a Redis hash called test with the fields count (1) and name ('Fester Bestertester'). Print all the fields for test.\n"
   ]
  },
  {
   "cell_type": "code",
   "execution_count": 28,
   "id": "fa2a2b98-ef93-44e7-97fb-03f243e39dbf",
   "metadata": {},
   "outputs": [
    {
     "name": "stdout",
     "output_type": "stream",
     "text": [
      "Requirement already satisfied: redis in e:\\users\\shree\\anaconda3\\lib\\site-packages (5.0.8)\n"
     ]
    }
   ],
   "source": [
    "\n",
    "!pip install redis\n",
    "     "
   ]
  },
  {
   "cell_type": "code",
   "execution_count": null,
   "id": "43760bca-c6e7-4d5c-a757-f4b70930cdc5",
   "metadata": {},
   "outputs": [],
   "source": [
    "import redis\n",
    "conn = redis.Redis()\n",
    "conn.delete('test')\n",
    "conn.hmset('test', {'count': 1, 'name': 'Fester Bestertester'})\n",
    "conn.hgetall('test')"
   ]
  },
  {
   "cell_type": "markdown",
   "id": "41ab9b8a-d40d-4831-97f9-e4a1042c129a",
   "metadata": {},
   "source": [
    "10. Increment the count field of test and print it.\n"
   ]
  },
  {
   "cell_type": "code",
   "execution_count": null,
   "id": "36707b8b-c283-42c6-9798-ea0296f310b7",
   "metadata": {},
   "outputs": [],
   "source": [
    "conn.hincrby('test','count', 3)\n"
   ]
  }
 ],
 "metadata": {
  "kernelspec": {
   "display_name": "Python 3 (ipykernel)",
   "language": "python",
   "name": "python3"
  },
  "language_info": {
   "codemirror_mode": {
    "name": "ipython",
    "version": 3
   },
   "file_extension": ".py",
   "mimetype": "text/x-python",
   "name": "python",
   "nbconvert_exporter": "python",
   "pygments_lexer": "ipython3",
   "version": "3.11.7"
  }
 },
 "nbformat": 4,
 "nbformat_minor": 5
}
