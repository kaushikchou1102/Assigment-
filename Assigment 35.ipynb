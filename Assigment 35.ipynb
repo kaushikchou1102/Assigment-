{
 "cells": [
  {
   "cell_type": "markdown",
   "id": "8f698bc1-5f2b-4437-a68d-e10631ee3c1c",
   "metadata": {},
   "source": [
    "Q1. What is the difference between __getattr__ and __getattribute__?\n"
   ]
  },
  {
   "cell_type": "markdown",
   "id": "ce9b225e-ed03-48c4-8925-0c5dbf5abcf9",
   "metadata": {},
   "source": [
    "Ans \n",
    "\n",
    "getattr is a higher-level function that safely accesses an attribute, optionally providing a default value if the attribute is missing.\n",
    "\n",
    "\n",
    "getattribute is a lower-level method that is automatically invoked when accessing an attribute and can be overridden to customize attribute access behavior."
   ]
  },
  {
   "cell_type": "markdown",
   "id": "777c33f9-ba77-4627-8f12-a32639347cbf",
   "metadata": {},
   "source": [
    "Q2. What is the difference between properties and descriptors?\n"
   ]
  },
  {
   "cell_type": "markdown",
   "id": "6b719db4-46d8-4ce5-990c-83e7638a7afa",
   "metadata": {},
   "source": [
    "Ans \n",
    "\n",
    "Properties provide a way to use methods as if they were attributes. They are often used to control access to an attribute by defining getter, setter, and deleter methods.\n",
    "\n",
    "Descriptors are a lower-level mechanism for controlling attribute access and can be used to implement properties, methods, and other forms of computed attributes."
   ]
  },
  {
   "cell_type": "markdown",
   "id": "af07c60d-3464-45aa-bed4-00ee372323d3",
   "metadata": {},
   "source": [
    "Q3. What are the key differences in functionality between __getattr__ and __getattribute__, as well as properties and descriptors?\n"
   ]
  },
  {
   "cell_type": "markdown",
   "id": "e17bbe40-15c9-48c9-81f1-23caa09c1a3a",
   "metadata": {},
   "source": [
    "Ans\n",
    "\n",
    "getattr vs. getattribute:\n",
    "\n",
    "getattr is a higher-level function that provides a fallback mechanism for missing attributes and is commonly used in dynamic attribute access.\n",
    "getattribute is a lower-level method that controls all attribute access and can be overridden for advanced use cases.\n",
    "                                                                                             \n",
    "Properties vs. Descriptors:\n",
    "\n",
    "Properties offer a simple and convenient way to manage attribute access within a single class, while descriptors provide a more powerful and reusable mechanism for controlling attribute access across multiple classes.\n",
    "Properties are implemented using decorators, while descriptors require defining special methods in a class."
   ]
  },
  {
   "cell_type": "code",
   "execution_count": null,
   "id": "b8db5598-e669-4ac3-b837-a3d010e4d0e8",
   "metadata": {},
   "outputs": [],
   "source": []
  }
 ],
 "metadata": {
  "kernelspec": {
   "display_name": "Python 3 (ipykernel)",
   "language": "python",
   "name": "python3"
  },
  "language_info": {
   "codemirror_mode": {
    "name": "ipython",
    "version": 3
   },
   "file_extension": ".py",
   "mimetype": "text/x-python",
   "name": "python",
   "nbconvert_exporter": "python",
   "pygments_lexer": "ipython3",
   "version": "3.11.7"
  }
 },
 "nbformat": 4,
 "nbformat_minor": 5
}
