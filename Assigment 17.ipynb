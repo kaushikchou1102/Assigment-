{
 "cells": [
  {
   "cell_type": "markdown",
   "id": "4555b12f-3fd4-4f52-b5c8-b0cf9bbbfb8d",
   "metadata": {},
   "source": [
    "1. Assign the value 7 to the variable guess_me. Then, write the conditional tests (if, else, and elif) to print the string 'too low' if guess_me is less than 7, 'too high' if greater than 7, and 'just right' if equal to 7.\n",
    "\n"
   ]
  },
  {
   "cell_type": "code",
   "execution_count": 5,
   "id": "aacfbe09-83fd-4d58-8b95-f7eb22759a66",
   "metadata": {},
   "outputs": [
    {
     "name": "stdin",
     "output_type": "stream",
     "text": [
      "enter the number 7\n"
     ]
    },
    {
     "name": "stdout",
     "output_type": "stream",
     "text": [
      "just right\n"
     ]
    }
   ],
   "source": [
    "guess_me= int(input('enter the number' ))\n",
    "if guess_me < 7:\n",
    "   print('too low')\n",
    "elif guess_me > 7:\n",
    "    print('too high')\n",
    "else:\n",
    "    print('just right')"
   ]
  },
  {
   "cell_type": "markdown",
   "id": "bc7dbbe4-9ac1-4a28-8777-a376835f7079",
   "metadata": {},
   "source": [
    "2. Assign the value 7 to the variable guess_me and the value 1 to the variable start. Write a while loop that compares start with guess_me. Print too low if start is less than guess me. If start equals guess_me, print 'found it!' and exit the loop. If start is greater than guess_me, print 'oops' and exit the loop. Increment start at the end of the loop.\n"
   ]
  },
  {
   "cell_type": "code",
   "execution_count": 25,
   "id": "a0b01449-b44f-4c11-b1d4-cb64b9096625",
   "metadata": {},
   "outputs": [
    {
     "name": "stdout",
     "output_type": "stream",
     "text": [
      "too low\n",
      "too low\n",
      "too low\n",
      "too low\n",
      "too low\n",
      "too low\n",
      "found it!\n"
     ]
    }
   ],
   "source": [
    "guess_me = 7\n",
    "start = 1\n",
    "\n",
    "while True:\n",
    "    \n",
    "    if start < guess_me:\n",
    "        print('too low')\n",
    "    elif start == guess_me:\n",
    "        print('found it!')\n",
    "        break\n",
    "    else:\n",
    "        print('oops')\n",
    "        break\n",
    "    start += 1\n",
    "    "
   ]
  },
  {
   "cell_type": "markdown",
   "id": "3ab2df15-2b55-4f06-9072-5974e0c2572e",
   "metadata": {},
   "source": [
    "3. Print the following values of the list [3, 2, 1, 0] using a for loop.\n"
   ]
  },
  {
   "cell_type": "code",
   "execution_count": 27,
   "id": "e30dadc1-cf55-40b2-b893-73d4ea5f4884",
   "metadata": {},
   "outputs": [
    {
     "name": "stdout",
     "output_type": "stream",
     "text": [
      "3\n",
      "2\n",
      "1\n",
      "0\n"
     ]
    }
   ],
   "source": [
    "list=[3,2,1,0]\n",
    "for i in list:\n",
    "   print(i)"
   ]
  },
  {
   "cell_type": "markdown",
   "id": "e5f48db7-ec20-4d15-a9d8-beb6f353d6ac",
   "metadata": {},
   "source": [
    "4. Use a list comprehension to make a list of the even numbers in range(10)\n"
   ]
  },
  {
   "cell_type": "code",
   "execution_count": 31,
   "id": "d980a105-18b4-4dfc-9483-1dfe7046d4d9",
   "metadata": {},
   "outputs": [
    {
     "data": {
      "text/plain": [
       "[0, 2, 4, 6, 8]"
      ]
     },
     "execution_count": 31,
     "metadata": {},
     "output_type": "execute_result"
    }
   ],
   "source": [
    "even_number =[x for x in range(10) if x%2==0 ]\n",
    "even_number"
   ]
  },
  {
   "cell_type": "markdown",
   "id": "69605f48-0042-405d-bf77-86dcf9be5820",
   "metadata": {},
   "source": [
    "5. Use a dictionary comprehension to create the dictionary squares. Use range(10) to return the keys, and use the square of each key as its value.\n"
   ]
  },
  {
   "cell_type": "code",
   "execution_count": 35,
   "id": "967dc67d-b47c-4125-b6bc-72a277a61f1b",
   "metadata": {},
   "outputs": [
    {
     "data": {
      "text/plain": [
       "{0: 0, 1: 1, 2: 4, 3: 9, 4: 16, 5: 25, 6: 36, 7: 49, 8: 64, 9: 81}"
      ]
     },
     "execution_count": 35,
     "metadata": {},
     "output_type": "execute_result"
    }
   ],
   "source": [
    "square={x:x*x for x in range(10)}\n",
    "square"
   ]
  },
  {
   "cell_type": "markdown",
   "id": "4f9f38a4-4404-43c9-a4da-ced7330ba241",
   "metadata": {},
   "source": [
    "6. Construct the set odd from the odd numbers in the range using a set comprehension (10).\n"
   ]
  },
  {
   "cell_type": "code",
   "execution_count": 37,
   "id": "639f966a-05ff-486e-8dfa-7fb756a1a15f",
   "metadata": {},
   "outputs": [
    {
     "data": {
      "text/plain": [
       "[1, 3, 5, 7, 9]"
      ]
     },
     "execution_count": 37,
     "metadata": {},
     "output_type": "execute_result"
    }
   ],
   "source": [
    "odd=[x for x in range(10) if x%2==1]\n",
    "odd"
   ]
  },
  {
   "cell_type": "markdown",
   "id": "0511f8a0-a48a-4888-8579-1a5c168bf81e",
   "metadata": {},
   "source": [
    "7. Use a generator comprehension to return the string 'Got ' and a number for the numbers in range(10). Iterate through this by using a for loop.\n"
   ]
  },
  {
   "cell_type": "code",
   "execution_count": 39,
   "id": "d62dd2b9-d94a-420a-98da-50d8013073c7",
   "metadata": {},
   "outputs": [
    {
     "name": "stdout",
     "output_type": "stream",
     "text": [
      "Got 0\n",
      "Got 1\n",
      "Got 2\n",
      "Got 3\n",
      "Got 4\n",
      "Got 5\n",
      "Got 6\n",
      "Got 7\n",
      "Got 8\n",
      "Got 9\n"
     ]
    }
   ],
   "source": [
    "generator = ('Got ' + str(num) for num in range(10))\n",
    "for item in generator:\n",
    "    print(item)"
   ]
  },
  {
   "cell_type": "markdown",
   "id": "9d9f6ab8-ac17-4260-a3c8-20281500f73c",
   "metadata": {},
   "source": [
    "8. Define a function called good that returns the list ['Harry', 'Ron', 'Hermione'].\n"
   ]
  },
  {
   "cell_type": "code",
   "execution_count": 43,
   "id": "4b621bc5-1eb3-4f3e-8fdc-e59dbd528f98",
   "metadata": {},
   "outputs": [
    {
     "data": {
      "text/plain": [
       "['Harry', 'Ron', 'Hermione']"
      ]
     },
     "execution_count": 43,
     "metadata": {},
     "output_type": "execute_result"
    }
   ],
   "source": [
    "def retunList():\n",
    "    return ['Harry', 'Ron', 'Hermione']\n",
    "retunList()\n"
   ]
  },
  {
   "cell_type": "markdown",
   "id": "62769f61-becd-4f9f-8c07-f61a9d7aab51",
   "metadata": {},
   "source": [
    "9. Define a generator function called get_odds that returns the odd numbers from range(10). Use a for loop to find and print the third value returned.\n"
   ]
  },
  {
   "cell_type": "code",
   "execution_count": 44,
   "id": "a9ae5105-283a-4d95-9783-debfe6235c2e",
   "metadata": {},
   "outputs": [
    {
     "name": "stdout",
     "output_type": "stream",
     "text": [
      "The third odd number is 5\n"
     ]
    }
   ],
   "source": [
    "def get_odds():\n",
    "    for number in range(1, 10, 2):\n",
    "         yield number\n",
    "count = 1\n",
    "for number in get_odds():\n",
    "    if count == 3:\n",
    "        print(\"The third odd number is\", number)\n",
    "        break\n",
    "    count += 1\n",
    "     "
   ]
  },
  {
   "cell_type": "markdown",
   "id": "3d9bfab8-d1c1-4bdd-ac8a-826742507a34",
   "metadata": {},
   "source": [
    "10. Define an exception called OopsException. Raise this exception to see what happens. Then write the code to catch this exception and print 'Caught an oops'.\n"
   ]
  },
  {
   "cell_type": "code",
   "execution_count": 45,
   "id": "d3d30000-8970-4108-85fb-95b427019dcd",
   "metadata": {},
   "outputs": [
    {
     "name": "stdout",
     "output_type": "stream",
     "text": [
      "Caught an oops\n"
     ]
    }
   ],
   "source": [
    "class OopsException(Exception):\n",
    "    pass\n",
    "\n",
    "def raiseException(num):\n",
    "    if num < 0:\n",
    "        raise OopsException(num)\n",
    "\n",
    "try:\n",
    "    raiseException(-1)\n",
    "except OopsException as err:\n",
    "    print('Caught an oops')"
   ]
  },
  {
   "cell_type": "markdown",
   "id": "775fa52f-ece0-4094-aeaa-02da299ce144",
   "metadata": {},
   "source": [
    "11. Use zip() to make a dictionary called movies that pairs these lists: titles = ['Creature of Habit', 'Crewel Fate'] and plots = ['A nun turns into a monster', 'A haunted yarn shop'].\n"
   ]
  },
  {
   "cell_type": "code",
   "execution_count": 47,
   "id": "b778b87e-6935-4722-b923-98e6f02ee69c",
   "metadata": {},
   "outputs": [
    {
     "name": "stdout",
     "output_type": "stream",
     "text": [
      "{'Creature of Habit': 'A nun turns into a monster', 'Crewel Fate': 'A haunted yarn shop'}\n"
     ]
    }
   ],
   "source": [
    "titles = ['Creature of Habit', 'Crewel Fate'] \n",
    "plots = ['A nun turns into a monster', 'A haunted yarn shop']\n",
    "movies=dict(zip(titles,plots))\n",
    "print(movies)\n",
    "\n"
   ]
  },
  {
   "cell_type": "code",
   "execution_count": null,
   "id": "afe2c755-1d53-444c-b388-6c02deefbe13",
   "metadata": {},
   "outputs": [],
   "source": []
  }
 ],
 "metadata": {
  "kernelspec": {
   "display_name": "Python 3 (ipykernel)",
   "language": "python",
   "name": "python3"
  },
  "language_info": {
   "codemirror_mode": {
    "name": "ipython",
    "version": 3
   },
   "file_extension": ".py",
   "mimetype": "text/x-python",
   "name": "python",
   "nbconvert_exporter": "python",
   "pygments_lexer": "ipython3",
   "version": "3.11.7"
  }
 },
 "nbformat": 4,
 "nbformat_minor": 5
}
