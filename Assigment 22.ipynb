{
 "cells": [
  {
   "cell_type": "code",
   "execution_count": null,
   "id": "b3a67234-9709-466d-9ba5-7b9346b97a09",
   "metadata": {},
   "outputs": [],
   "source": [
    "1. What is the result of the code, and explain?\n",
    "\n",
    "\n",
    ">>> X = 'iNeuron'\n",
    ">>> def func():\n",
    "print(X)\n",
    "\n",
    "\n",
    ">>> func()\n"
   ]
  },
  {
   "cell_type": "markdown",
   "id": "6d02fb1b-7204-41af-9934-83bd6c522545",
   "metadata": {},
   "source": [
    "output = iNeuron\n",
    "\n",
    "The function func() does not have a local variable X defined within it.\n",
    "    \n",
    "When the print(X) statement is executed inside the function, Python looks for the variable X in the local scope first.\n",
    "    \n",
    "Since it doesn't find X in the local scope, it checks the global scope, where it finds X defined as 'iNeuron'.\n",
    "\n",
    "Consequently, print(X) prints the value 'iNeuron' to the output."
   ]
  },
  {
   "cell_type": "code",
   "execution_count": null,
   "id": "d93886bb-df74-472f-b346-ef72f493d7cf",
   "metadata": {},
   "outputs": [],
   "source": [
    "2. What is the result of the code, and explain?\n",
    "\n",
    "\n",
    ">>> X = 'iNeuron'\n",
    ">>> def func():\n",
    "X = 'NI!'\n",
    "\n",
    "\n",
    ">>> func()\n",
    ">>> print(X)\n"
   ]
  },
  {
   "cell_type": "markdown",
   "id": "afd1df57-8bd0-4740-aeec-884994a14db8",
   "metadata": {},
   "source": [
    "output = iNeuron\n",
    "\n",
    "The assignment X = 'NI!' inside the function func() only affects the local variable X within that function's scope. It does not affect the global variable X.\n",
    "\n",
    "Therefore, when print(X) is called outside of the function, it prints the global X, which still holds the value 'iNeuron'."
   ]
  },
  {
   "cell_type": "code",
   "execution_count": null,
   "id": "7c185169-108c-4a77-b65c-f306e3ce08f5",
   "metadata": {},
   "outputs": [],
   "source": [
    "3. What does this code print, and why?\n",
    "\n",
    "\n",
    ">>> X = 'iNeuron'\n",
    ">>> def func():\n",
    "X = 'NI'\n",
    "print(X)\n",
    "\n",
    "\n",
    ">>> func()\n",
    ">>> print(X)\n"
   ]
  },
  {
   "cell_type": "markdown",
   "id": "3c514337-b7e3-4aa9-9f58-e0ea3b70d629",
   "metadata": {},
   "source": [
    "output\n",
    "\n",
    "NI\n",
    "iNeuron\n",
    "\n",
    "The first print(X) inside func() prints 'NI' because it refers to the local variable X defined within the function.\n",
    "\n",
    "The second print(X) outside of func() prints 'iNeuron' because it refers to the global variable X, which has not been altered by the function func()."
   ]
  },
  {
   "cell_type": "code",
   "execution_count": null,
   "id": "7cb16ee0-46a5-4403-b824-b22bc3ab6f1b",
   "metadata": {},
   "outputs": [],
   "source": [
    "4. What output does this code produce? Why?\n",
    "\n",
    "\n",
    ">>> X = 'iNeuron'\n",
    ">>> def func():\n",
    "global X\n",
    "X = 'NI'\n",
    "\n",
    "\n",
    ">>> func()\n",
    ">>> print(X)\n"
   ]
  },
  {
   "cell_type": "markdown",
   "id": "b4ba4f49-ef23-436c-ac6a-f05b03db9264",
   "metadata": {},
   "source": [
    "output=\n",
    "\n",
    "NI\n",
    "\n",
    "The global X statement inside func() allows the function to modify the global variable X.\n",
    "\n",
    "As a result, when print(X) is executed after the function call, it prints 'NI', the new value of the global variable X."
   ]
  },
  {
   "cell_type": "code",
   "execution_count": null,
   "id": "eb78506b-fd50-43ca-8d96-059e6557a592",
   "metadata": {},
   "outputs": [],
   "source": [
    "5. What about this code—what’s the output, and why?\n",
    "\n",
    "\n",
    ">>> X = 'iNeuron'\n",
    ">>> def func():\n",
    "X = 'NI'\n",
    "def nested():\n",
    "print(X)\n",
    "nested()\n",
    "\n",
    "\n",
    ">>> func()\n",
    ">>> X\n"
   ]
  },
  {
   "cell_type": "markdown",
   "id": "b0639700-bb5e-4a88-9d4a-825f56cda13d",
   "metadata": {},
   "source": [
    "output=\n",
    "\n",
    "NI\n",
    "'iNeuron'\n",
    "\n",
    "The nested function nested() accesses the local variable X from the enclosing func() scope, resulting in 'NI' being printed.\n",
    "\n",
    "The global variable X remains 'iNeuron', which is confirmed by evaluating X after the function call."
   ]
  },
  {
   "cell_type": "code",
   "execution_count": null,
   "id": "ecb54f5e-73bd-4781-a57a-2539f97ab2c9",
   "metadata": {},
   "outputs": [],
   "source": [
    "6. How about this code: what is its output in Python 3, and explain?\n",
    "\n",
    "\n",
    ">>> def func():\n",
    "X = 'NI'\n",
    "def nested():\n",
    "nonlocal X\n",
    "X = 'Spam'\n",
    "nested()\n",
    "print(X)\n",
    "\n",
    "\n",
    ">>> func()\n"
   ]
  },
  {
   "cell_type": "markdown",
   "id": "445ada1c-627e-4c1e-b4b3-d3de46024e6d",
   "metadata": {},
   "source": [
    "output = \n",
    "\n",
    "Spam\n",
    "\n",
    "The use of nonlocal allows the nested function nested() to modify the variable X in the enclosing function func().\n",
    "\n",
    "Therefore, when print(X) is called in func(), it prints 'Spam', reflecting the change made by nested()."
   ]
  },
  {
   "cell_type": "code",
   "execution_count": null,
   "id": "f5371595-850a-41fa-9694-2a170983d298",
   "metadata": {},
   "outputs": [],
   "source": []
  }
 ],
 "metadata": {
  "kernelspec": {
   "display_name": "Python 3 (ipykernel)",
   "language": "python",
   "name": "python3"
  },
  "language_info": {
   "codemirror_mode": {
    "name": "ipython",
    "version": 3
   },
   "file_extension": ".py",
   "mimetype": "text/x-python",
   "name": "python",
   "nbconvert_exporter": "python",
   "pygments_lexer": "ipython3",
   "version": "3.11.7"
  }
 },
 "nbformat": 4,
 "nbformat_minor": 5
}
